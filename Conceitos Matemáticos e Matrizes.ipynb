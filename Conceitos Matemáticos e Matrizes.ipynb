{
  "nbformat": 4,
  "nbformat_minor": 0,
  "metadata": {
    "colab": {
      "provenance": [],
      "authorship_tag": "ABX9TyOYqEQ/+Kbzw6clntT6PJsq",
      "include_colab_link": true
    },
    "kernelspec": {
      "name": "python3",
      "display_name": "Python 3"
    },
    "language_info": {
      "name": "python"
    }
  },
  "cells": [
    {
      "cell_type": "markdown",
      "metadata": {
        "id": "view-in-github",
        "colab_type": "text"
      },
      "source": [
        "<a href=\"https://colab.research.google.com/github/MoonboyEVA/Network-DHCP-IP-TCP/blob/main/Conceitos%20Matem%C3%A1ticos%20e%20Matrizes.ipynb\" target=\"_parent\"><img src=\"https://colab.research.google.com/assets/colab-badge.svg\" alt=\"Open In Colab\"/></a>"
      ]
    },
    {
      "cell_type": "code",
      "execution_count": 1,
      "metadata": {
        "colab": {
          "base_uri": "https://localhost:8080/"
        },
        "id": "GdCD7s6hzKqM",
        "outputId": "e722dfb8-9ea9-454e-abfe-053afaa2ea3c"
      },
      "outputs": [
        {
          "output_type": "stream",
          "name": "stdout",
          "text": [
            "Digite um número inteiro: 5\n",
            "Este número é impar!\n",
            "Este número é positivo!\n"
          ]
        }
      ],
      "source": [
        "x = int(input(\"Digite um número inteiro: \"))\n",
        "if x % 2 == 0:\n",
        "  print(\"Este número é par!\")\n",
        "else:\n",
        "  print(\"Este número é impar!\")\n",
        "\n",
        "if x > 0:\n",
        "  print(\"Este número é positivo!\")\n",
        "else:\n",
        "  print(\"Este número é negativo!\")\n",
        "if x == 0:\n",
        "  print(\"Seu número é o 0\")"
      ]
    },
    {
      "cell_type": "code",
      "source": [
        "N = int(input(\"Digite o valor de N: \"))\n",
        "fibonacci = [0, 1]\n",
        "for i in range(2, N):\n",
        "    proximo_numero = fibonacci[i-1] + fibonacci[i-2]\n",
        "    fibonacci.append(proximo_numero)\n",
        "print(fibonacci[:N])"
      ],
      "metadata": {
        "colab": {
          "base_uri": "https://localhost:8080/"
        },
        "id": "gV_FbGuk0c2W",
        "outputId": "4cbb22d7-e7a7-4408-df4a-55d3f91750fb"
      },
      "execution_count": 3,
      "outputs": [
        {
          "output_type": "stream",
          "name": "stdout",
          "text": [
            "Digite o valor de N: 5\n",
            "[0, 1, 1, 2, 3]\n"
          ]
        }
      ]
    },
    {
      "cell_type": "code",
      "source": [
        "soma = 0\n",
        "while True:\n",
        "    numero = int(input(\"Digite um número (ou um negativo para parar): \"))\n",
        "    if numero < 0:\n",
        "        break\n",
        "    soma += numero\n",
        "print(\"A soma dos números positivos fornecidos é:\", soma)"
      ],
      "metadata": {
        "colab": {
          "base_uri": "https://localhost:8080/"
        },
        "id": "CdcSBI7o2X2x",
        "outputId": "39acc9a9-bda8-4629-dd78-37d2e5f130b7"
      },
      "execution_count": 2,
      "outputs": [
        {
          "output_type": "stream",
          "name": "stdout",
          "text": [
            "Digite um número (ou um negativo para parar): 50\n",
            "Digite um número (ou um negativo para parar): 50\n",
            "Digite um número (ou um negativo para parar): 100\n",
            "Digite um número (ou um negativo para parar): 300\n",
            "Digite um número (ou um negativo para parar): -5\n",
            "A soma dos números positivos fornecidos é: 500\n"
          ]
        }
      ]
    },
    {
      "cell_type": "code",
      "source": [
        "85\n",
        "numeros = []\n",
        "for i in range(10):\n",
        "    numero = int(input(f\"Digite o {i+1}º número inteiro: \"))\n",
        "    numeros.append(numero)\n",
        "\n",
        "print(\"\\nOs números da lista são:\", numeros)\n",
        "\n",
        "print(\"O menor número da lista é:\", min(numeros))\n",
        "\n",
        "print(\"O maior número da lista é:\", max(numeros))\n",
        "\n",
        "print(\"A soma de todos os números da lista é:\", sum(numeros))\n",
        "\n",
        "media = sum(numeros) / len(numeros)\n",
        "print(\"A média dos números da lista é:\", media)"
      ],
      "metadata": {
        "colab": {
          "base_uri": "https://localhost:8080/"
        },
        "id": "obL5OqpU20SL",
        "outputId": "5b437519-114b-4cb3-8df9-8add6a4aa674"
      },
      "execution_count": 6,
      "outputs": [
        {
          "output_type": "stream",
          "name": "stdout",
          "text": [
            "Digite o 1º número inteiro: 50\n",
            "Digite o 2º número inteiro: 60\n",
            "Digite o 3º número inteiro: 981\n",
            "Digite o 4º número inteiro: 21654\n",
            "Digite o 5º número inteiro: 121\n",
            "Digite o 6º número inteiro: 5154\n",
            "Digite o 7º número inteiro: 78\n",
            "Digite o 8º número inteiro: 54\n",
            "Digite o 9º número inteiro: 65\n",
            "Digite o 10º número inteiro: -10000\n",
            "\n",
            "Os números da lista são: [50, 60, 981, 21654, 121, 5154, 78, 54, 65, -10000]\n",
            "O menor número da lista é: -10000\n",
            "O maior número da lista é: 21654\n",
            "A soma de todos os números da lista é: 18217\n",
            "A média dos números da lista é: 1821.7\n"
          ]
        }
      ]
    },
    {
      "cell_type": "code",
      "source": [
        "def tuplas():\n",
        "\n",
        "    cidades = tuple(input(\"Digite o nome da cidade {}: \".format(i+1)) for i in range(5))\n",
        "\n",
        "    print(\"Cidades:\", cidades)\n",
        "\n",
        "    print(\"Cidades em ordem alfabética:\", sorted(cidades))\n",
        "\n",
        "    cont_a = sum(1 for cidade in cidades if cidade.startswith('A'))\n",
        "\n",
        "    print(\"Número de cidades que começam com 'A':\", cont_a)\n",
        "\n",
        "manipular_tuplas()"
      ],
      "metadata": {
        "id": "ntOkhuBG3O7F"
      },
      "execution_count": null,
      "outputs": []
    },
    {
      "cell_type": "code",
      "source": [
        "def manipular_dicionarios():\n",
        "    alunos = {}\n",
        "    for i in range(5):\n",
        "        nome = input(\"Digite o nome do aluno {}: \".format(i+1))\n",
        "        nota = float(input(\"Digite a nota de {}: \".format(nome)))\n",
        "        alunos[nome] = nota\n",
        "\n",
        "    print(\"Alunos e suas notas:\")\n",
        "    for aluno, nota in alunos.items():\n",
        "        print(f\"{aluno}: {nota}\")\n",
        "\n",
        "    media = sum(alunos.values()) / len(alunos)\n",
        "    print(\"Média das notas:\", media)\n",
        "\n",
        "    aluno_maior_nota = max(alunos, key=alunos.get)\n",
        "    print(\"Aluno com a maior nota:\", aluno_maior_nota)\n",
        "\n",
        "manipular_dicionarios()"
      ],
      "metadata": {
        "id": "V33IFbI63-vs"
      },
      "execution_count": null,
      "outputs": []
    },
    {
      "cell_type": "code",
      "source": [
        "def palindromo():\n",
        "\n",
        "    palavra = input(\"Digite uma palavra: \")\n",
        "    palavra_invertida = palavra[::-1]\n",
        "\n",
        "    if palavra == palavra_invertida:\n",
        "        print(\"Sim, é um palíndromo\")\n",
        "    else:\n",
        "        print(\"Não, não é\")\n",
        "\n",
        "palindromo()"
      ],
      "metadata": {
        "id": "3tgRybrL4WVi"
      },
      "execution_count": null,
      "outputs": []
    },
    {
      "cell_type": "code",
      "source": [
        "def soma(a, b, c):\n",
        "  return a + b + c\n",
        "\n",
        "def media(a, b, c):\n",
        "  total = soma(a, b, c)\n",
        "  return total / 3\n",
        "\n",
        "r = media(5, 10, 15)\n",
        "print(\"A média é:\", r)\n",
        "\n",
        "# O que o código deveria fazer é calcular a média de três números.\n",
        "#A função soma espera apenas dois argumentos, mas a função media passa três argumentos para ela."
      ],
      "metadata": {
        "id": "ltMTBkiw4fJs"
      },
      "execution_count": null,
      "outputs": []
    },
    {
      "cell_type": "code",
      "source": [
        "import random\n",
        "\n",
        "def encontrar_maior_elemento(matriz):\n",
        "\n",
        "  linhas = len(matriz)\n",
        "  colunas = len(matriz[0])\n",
        "  maior_elemento = matriz[0][0]\n",
        "  posicao = (0, 0)\n",
        "\n",
        "  for i in range(linhas):\n",
        "    for j in range(colunas):\n",
        "      if matriz[i][j] > maior_elemento:\n",
        "        maior_elemento = matriz[i][j]\n",
        "        posicao = (i, j)\n",
        "\n",
        "  return maior_elemento, posicao\n",
        "\n",
        "n = int(input(\"Digite o número de linhas: \"))\n",
        "m = int(input(\"Digite o número de colunas: \"))\n",
        "\n",
        "matriz = []\n",
        "for i in range(n):\n",
        "  linha = []\n",
        "  for j in range(m):\n",
        "    elemento = int(input(f\"Digite o elemento na posição ({i}, {j}): \"))\n",
        "    linha.append(elemento)\n",
        "  matriz.append(linha)\n",
        "\n",
        "maior, posicao = encontrar_maior_elemento(matriz)\n",
        "\n",
        "print(f\"O maior elemento é {maior} e está na posição {posicao}\")"
      ],
      "metadata": {
        "id": "Iv-gfQ825FQh"
      },
      "execution_count": null,
      "outputs": []
    },
    {
      "cell_type": "code",
      "source": [
        "import random\n",
        "\n",
        "def criar_matriz_zeros(linhas, colunas):\n",
        "\n",
        "  matriz = [[0 for _ in range(colunas)] for _ in range(linhas)]\n",
        "  return matriz\n",
        "\n",
        "def criar_matriz_aleatoria(linhas, colunas):\n",
        "\n",
        "  matriz = [[random.randint(0, 100) for _ in range(colunas)] for _ in range(linhas)]\n",
        "  return matriz\n",
        "\n",
        "matriz_zeros = criar_matriz_zeros(3, 3)\n",
        "print(matriz_zeros)\n",
        "\n",
        "matriz_aleatoria = criar_matriz_aleatoria(4, 4)\n",
        "print(matriz_aleatoria)"
      ],
      "metadata": {
        "colab": {
          "base_uri": "https://localhost:8080/"
        },
        "id": "4Dm65oFr5SJX",
        "outputId": "cf19b249-09da-4ea1-ada8-d6f51f53a6f8"
      },
      "execution_count": 4,
      "outputs": [
        {
          "output_type": "stream",
          "name": "stdout",
          "text": [
            "[[0, 0, 0], [0, 0, 0], [0, 0, 0]]\n",
            "[[10, 15, 2, 99], [53, 92, 64, 12], [94, 72, 0, 99], [50, 52, 74, 78]]\n"
          ]
        }
      ]
    }
  ]
}