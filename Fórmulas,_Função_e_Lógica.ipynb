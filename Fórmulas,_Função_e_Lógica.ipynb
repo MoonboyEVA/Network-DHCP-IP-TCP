{
  "nbformat": 4,
  "nbformat_minor": 0,
  "metadata": {
    "colab": {
      "provenance": [],
      "authorship_tag": "ABX9TyNbQgiMjkiw2abPnHuJFFLN",
      "include_colab_link": true
    },
    "kernelspec": {
      "name": "python3",
      "display_name": "Python 3"
    },
    "language_info": {
      "name": "python"
    }
  },
  "cells": [
    {
      "cell_type": "markdown",
      "metadata": {
        "id": "view-in-github",
        "colab_type": "text"
      },
      "source": [
        "<a href=\"https://colab.research.google.com/github/MoonboyEVA/Network-DHCP-IP-TCP/blob/main/F%C3%B3rmulas%2C_Fun%C3%A7%C3%A3o_e_L%C3%B3gica.ipynb\" target=\"_parent\"><img src=\"https://colab.research.google.com/assets/colab-badge.svg\" alt=\"Open In Colab\"/></a>"
      ]
    },
    {
      "cell_type": "code",
      "execution_count": null,
      "metadata": {
        "id": "hnA6fSHs4LO7"
      },
      "outputs": [],
      "source": [
        "def subtrair_lista(numeros):\n",
        "    subtracao = numeros[0]\n",
        "    for numero in numeros[1:]:\n",
        "        subtracao -= numero\n",
        "    return subtracao"
      ]
    },
    {
      "cell_type": "code",
      "source": [
        "\n",
        "import math\n",
        "def area_circulo(diametro):\n",
        "  raio = diametro / 2\n",
        "  area = math.pi * (raio ** 2)\n",
        "  return area\n",
        "\n",
        "diametro = float(input(\"Digite o diametro: \"))\n",
        "\n",
        "area = area_circulo(diametro)\n",
        "\n",
        "print(\"A área do círculo é:\", area)"
      ],
      "metadata": {
        "colab": {
          "base_uri": "https://localhost:8080/"
        },
        "id": "OQqRU_0Y5GZV",
        "outputId": "9d9431bd-9e9a-4446-dd29-39ff44b284bc"
      },
      "execution_count": null,
      "outputs": [
        {
          "output_type": "stream",
          "name": "stdout",
          "text": [
            "Digite o diametro: 10\n",
            "A área do círculo é: 78.53981633974483\n"
          ]
        }
      ]
    },
    {
      "cell_type": "code",
      "source": [
        "x = range(20)\n",
        "x = list(x)\n",
        "for Z in x[3:7]:\n",
        "  print(Z)"
      ],
      "metadata": {
        "colab": {
          "base_uri": "https://localhost:8080/"
        },
        "id": "AhOcssB_6Agr",
        "outputId": "0c16e82e-6557-4767-d8c5-fe2463160e99"
      },
      "execution_count": null,
      "outputs": [
        {
          "output_type": "stream",
          "name": "stdout",
          "text": [
            "3\n",
            "4\n",
            "5\n",
            "6\n"
          ]
        }
      ]
    },
    {
      "cell_type": "code",
      "source": [
        "a = [3,2,1]\n",
        "b = a[:]\n",
        "b[2] = 3\n",
        "print(\"%s, %s, %s\" % (a,b,a == b))"
      ],
      "metadata": {
        "colab": {
          "base_uri": "https://localhost:8080/"
        },
        "id": "dJcFMyXH6aOp",
        "outputId": "ad9c5652-fb0b-49d7-dbfe-ba0b0af94dfd"
      },
      "execution_count": null,
      "outputs": [
        {
          "output_type": "stream",
          "name": "stdout",
          "text": [
            "[3, 2, 1], [3, 2, 3], False\n"
          ]
        }
      ]
    },
    {
      "cell_type": "code",
      "source": [
        "y = 1\n",
        "x = 3\n",
        "while y <= 5:\n",
        "  x = 3 * y\n",
        "  y = y + 1\n",
        "  print(x)\n",
        "  print(y)"
      ],
      "metadata": {
        "colab": {
          "base_uri": "https://localhost:8080/"
        },
        "id": "JBHQIJMi65AC",
        "outputId": "e8b0328b-9f29-433f-a390-7804f5cedd02"
      },
      "execution_count": null,
      "outputs": [
        {
          "output_type": "stream",
          "name": "stdout",
          "text": [
            "3\n",
            "2\n",
            "6\n",
            "3\n",
            "9\n",
            "4\n",
            "12\n",
            "5\n",
            "15\n",
            "6\n"
          ]
        }
      ]
    },
    {
      "cell_type": "code",
      "source": [
        "num1 = int(input(\"Digite o primeiro número inteiro: \"))\n",
        "num2 = int(input(\"Digite o segundo número inteiro: \"))\n",
        "num3 = float(input(\"Digite um número real: \"))\n",
        "\n",
        "a = (num1 / 2) * (num2 * 2)\n",
        "b = (num1 * 3) + num3\n",
        "c = num3 ** 3\n",
        "\n",
        "print(\"O produto da metade do primeiro com o dobro do segundo é:\", a)\n",
        "print(\"A soma do triplo do primeiro com o terceiro é:\", b)\n",
        "print(\"O terceiro elevado ao cubo é:\", c)"
      ],
      "metadata": {
        "colab": {
          "base_uri": "https://localhost:8080/"
        },
        "id": "e2WxwCPD8F9z",
        "outputId": "7a37759a-861c-4de5-fd79-e5bf044f8aa8"
      },
      "execution_count": null,
      "outputs": [
        {
          "output_type": "stream",
          "name": "stdout",
          "text": [
            "Digite o primeiro número inteiro: 60\n",
            "Digite o segundo número inteiro: 62\n",
            "Digite um número real: 60.5\n",
            "O produto da metade do primeiro com o dobro do segundo é: 3720.0\n",
            "A soma do triplo do primeiro com o terceiro é: 240.5\n",
            "O terceiro elevado ao cubo é: 221445.125\n"
          ]
        }
      ]
    },
    {
      "cell_type": "code",
      "source": [
        "a = 30\n",
        "b = 6\n",
        "def divide(a, b):\n",
        "  global d\n",
        "  d = a/b\n",
        "  return d\n",
        "c = divide(a,b)\n",
        "print (\"c=%d, d=%d\" % (c,d))"
      ],
      "metadata": {
        "colab": {
          "base_uri": "https://localhost:8080/"
        },
        "id": "QDfpV_Di8jjL",
        "outputId": "785830b6-01e7-4a75-ade7-64e5081471ad"
      },
      "execution_count": null,
      "outputs": [
        {
          "output_type": "stream",
          "name": "stdout",
          "text": [
            "c=5, d=5\n"
          ]
        }
      ]
    }
  ]
}